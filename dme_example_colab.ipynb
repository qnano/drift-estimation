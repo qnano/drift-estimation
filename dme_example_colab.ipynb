{
  "nbformat": 4,
  "nbformat_minor": 0,
  "metadata": {
    "colab": {
      "provenance": [],
      "gpuType": "T4"
    },
    "kernelspec": {
      "name": "python3",
      "display_name": "Python 3"
    },
    "language_info": {
      "name": "python"
    },
    "accelerator": "GPU"
  },
  "cells": [
    {
      "cell_type": "code",
      "source": [
        "\"\"\"\n",
        "3D drift estimation example.\n",
        "\n",
        "Runs ok on google colab with T4 GPU, but for some reason the CPU multithreading is much slower than on windows\n",
        "\"\"\"\n",
        "\n",
        "%cd /content\n",
        "!rm -rf /content/drift-estimation\n",
        "!git clone https://github.com/qnano/drift-estimation.git\n",
        "%cd /content/drift-estimation\n",
        "!cmake .\n",
        "!make clean & make"
      ],
      "metadata": {
        "colab": {
          "base_uri": "https://localhost:8080/"
        },
        "id": "voVqLFZbIHYA",
        "outputId": "896f2f2e-db8f-48fd-a812-5fb4bc4510ed"
      },
      "execution_count": 1,
      "outputs": [
        {
          "output_type": "stream",
          "name": "stdout",
          "text": [
            "/content\n",
            "Cloning into 'drift-estimation'...\n",
            "remote: Enumerating objects: 386, done.\u001b[K\n",
            "remote: Counting objects: 100% (386/386), done.\u001b[K\n",
            "remote: Compressing objects: 100% (236/236), done.\u001b[K\n",
            "remote: Total 386 (delta 233), reused 284 (delta 145), pack-reused 0\u001b[K\n",
            "Receiving objects: 100% (386/386), 29.56 MiB | 23.32 MiB/s, done.\n",
            "Resolving deltas: 100% (233/233), done.\n",
            "/content/drift-estimation\n",
            "-- The CXX compiler identification is GNU 11.4.0\n",
            "-- Detecting CXX compiler ABI info\n",
            "-- Detecting CXX compiler ABI info - done\n",
            "-- Check for working CXX compiler: /usr/bin/c++ - skipped\n",
            "-- Detecting CXX compile features\n",
            "-- Detecting CXX compile features - done\n",
            "-- Looking for a CUDA compiler\n",
            "-- Looking for a CUDA compiler - /usr/local/cuda/bin/nvcc\n",
            "-- The CUDA compiler identification is NVIDIA 11.8.89\n",
            "-- Detecting CUDA compiler ABI info\n",
            "-- Detecting CUDA compiler ABI info - done\n",
            "-- Check for working CUDA compiler: /usr/local/cuda/bin/nvcc - skipped\n",
            "-- Detecting CUDA compile features\n",
            "-- Detecting CUDA compile features - done\n",
            "\u001b[0mTargeting CUDA build...\u001b[0m\n",
            "-- Configuring done (5.6s)\n",
            "-- Generating done (0.0s)\n",
            "-- Build files have been written to: /content/drift-estimation\n",
            "[ 20%] \u001b[32mBuilding CXX object CMakeFiles/dme_cuda.dir/dme/DME/Rendering.cpp.o\u001b[0m\n",
            "[ 40%] \u001b[32mBuilding CXX object CMakeFiles/dme_cuda.dir/dme/DME/StringUtils.cpp.o\u001b[0m\n",
            "[ 60%] \u001b[32mBuilding CUDA object CMakeFiles/dme_cuda.dir/dme/DME/DriftEstimation.cu.o\u001b[0m\n",
            "[ 80%] \u001b[32m\u001b[1mLinking CUDA device code CMakeFiles/dme_cuda.dir/cmake_device_link.o\u001b[0m\n",
            "[100%] \u001b[32m\u001b[1mLinking CXX shared library dme/bin/release/libdme_cuda.so\u001b[0m\n",
            "[100%] Built target dme_cuda\n"
          ]
        }
      ]
    },
    {
      "cell_type": "code",
      "source": [
        "\n",
        "!nvidia-smi"
      ],
      "metadata": {
        "colab": {
          "base_uri": "https://localhost:8080/"
        },
        "id": "6SeCLy1rJnyZ",
        "outputId": "38326dd2-b7db-44b4-97d1-ffa3a5cb5b06"
      },
      "execution_count": 2,
      "outputs": [
        {
          "output_type": "stream",
          "name": "stdout",
          "text": [
            "Wed Oct  4 19:26:14 2023       \n",
            "+-----------------------------------------------------------------------------+\n",
            "| NVIDIA-SMI 525.105.17   Driver Version: 525.105.17   CUDA Version: 12.0     |\n",
            "|-------------------------------+----------------------+----------------------+\n",
            "| GPU  Name        Persistence-M| Bus-Id        Disp.A | Volatile Uncorr. ECC |\n",
            "| Fan  Temp  Perf  Pwr:Usage/Cap|         Memory-Usage | GPU-Util  Compute M. |\n",
            "|                               |                      |               MIG M. |\n",
            "|===============================+======================+======================|\n",
            "|   0  Tesla T4            Off  | 00000000:00:04.0 Off |                    0 |\n",
            "| N/A   45C    P8     9W /  70W |      0MiB / 15360MiB |      0%      Default |\n",
            "|                               |                      |                  N/A |\n",
            "+-------------------------------+----------------------+----------------------+\n",
            "                                                                               \n",
            "+-----------------------------------------------------------------------------+\n",
            "| Processes:                                                                  |\n",
            "|  GPU   GI   CI        PID   Type   Process name                  GPU Memory |\n",
            "|        ID   ID                                                   Usage      |\n",
            "|=============================================================================|\n",
            "|  No running processes found                                                 |\n",
            "+-----------------------------------------------------------------------------+\n"
          ]
        }
      ]
    },
    {
      "cell_type": "code",
      "execution_count": null,
      "metadata": {
        "colab": {
          "base_uri": "https://localhost:8080/"
        },
        "id": "2eF-M0wyIASW",
        "outputId": "6b50dd98-dd2d-4717-8d29-5b3087213188"
      },
      "outputs": [
        {
          "output_type": "stream",
          "name": "stderr",
          "text": [
            "<ipython-input-3-bdb717f6a435>:37: DeprecationWarning: `np.bool` is a deprecated alias for the builtin `bool`. To silence this warning, use `bool` by itself. Doing this will not modify any behavior and is safe. If you specifically wanted the numpy scalar type, use `np.bool_` here.\n",
            "Deprecated in NumPy 1.20; for more details and guidance: https://numpy.org/devdocs/release/1.20.0-notes.html#deprecations\n",
            "  on = np.random.binomial(1, on_prob, size=n_sites).astype(np.bool)\n"
          ]
        },
        {
          "output_type": "stream",
          "name": "stdout",
          "text": [
            "Total localizations: 200079\n",
            "Computing XY drift\n",
            "RCC: Computing image cross correlations. Image stack shape: (10, 410, 410). Size: 6 MB\n"
          ]
        },
        {
          "output_type": "stream",
          "name": "stderr",
          "text": [
            "100%|██████████| 45/45 [00:03<00:00, 11.74it/s]\n"
          ]
        },
        {
          "output_type": "stream",
          "name": "stdout",
          "text": [
            "Computing Z drift\n",
            "RCC: Computing image cross correlations. Image stack shape: (10, 402, 402). Size: 6 MB\n"
          ]
        },
        {
          "output_type": "stream",
          "name": "stderr",
          "text": [
            "100%|██████████| 45/45 [00:03<00:00, 12.06it/s]"
          ]
        },
        {
          "output_type": "stream",
          "name": "stdout",
          "text": [
            "Computing initial coarse drift estimate... (200 frames/bin)\n"
          ]
        },
        {
          "output_type": "stream",
          "name": "stderr",
          "text": [
            "\n",
            "19. Accepting step. Score: 5.575740. Stepsize: 1.597402e-05 [cuda=1, dims=3]: : 20it [01:57, 10.78s/it]"
          ]
        }
      ],
      "source": [
        "import numpy as np\n",
        "import matplotlib.pyplot as plt\n",
        "\n",
        "from dme.dme import dme_estimate\n",
        "\n",
        "# Need to have CUDA >= 10.1 update 2 installed\n",
        "use_cuda=True\n",
        "\n",
        "\n",
        "# Simulate an SMLM dataset in 3D with blinking molecules\n",
        "def smlm_simulation(\n",
        "        drift_trace,\n",
        "        fov_width, # field of view size in pixels\n",
        "        loc_error, # localization error XYZ\n",
        "        n_sites, # number of locations where molecules blink on and off\n",
        "        n_frames,\n",
        "        on_prob = 0.1, # probability of a binding site generating a localization in a frame\n",
        "        ):\n",
        "\n",
        "    \"\"\"\n",
        "    localization error is set to 20nm XY and 50nm Z precision\n",
        "    (assumping Z coordinates are in um and XY are in pixels)\n",
        "    \"\"\"\n",
        "\n",
        "    # typical 2D acquisition with small Z range and large XY range\n",
        "    binding_sites = np.random.uniform([0,0,-1], [fov_width,fov_width,1], size=(n_sites,3))\n",
        "\n",
        "    localizations = []\n",
        "    framenum = []\n",
        "\n",
        "    for i in range(n_frames):\n",
        "        on = np.random.binomial(1, on_prob, size=n_sites).astype(np.bool)\n",
        "        locs = binding_sites[on]*1\n",
        "        # add localization error\n",
        "        locs += drift_trace[i] + np.random.normal(0, loc_error, size=locs.shape)\n",
        "        framenum.append(np.ones(len(locs),dtype=np.int32)*i)\n",
        "        localizations.append(locs)\n",
        "\n",
        "    return np.concatenate(localizations), np.concatenate(framenum)\n",
        "\n",
        "n_frames = 10000\n",
        "fov_width = 200\n",
        "drift_mean = (0.001,0,0)\n",
        "drift_stdev = (0.02,0.02,0.02)\n",
        "loc_error = np.array((0.1,0.1,0.03)) # pixel, pixel, um\n",
        "# Ground truth drift trace\n",
        "drift_trace = np.cumsum(np.random.normal(drift_mean, drift_stdev, size=(n_frames,3)), 0)\n",
        "drift_trace -= drift_trace.mean(0)\n",
        "\n",
        "\n",
        "localizations, framenum = smlm_simulation(drift_trace, fov_width, loc_error,\n",
        "                                          n_sites=200,\n",
        "                                          n_frames=n_frames)\n",
        "print(f\"Total localizations: {len(localizations)}\")\n",
        "\n",
        "crlb = np.ones(localizations.shape) * np.array(loc_error)[None]\n",
        "\n",
        "estimated_drift,_ = dme_estimate(localizations, framenum,\n",
        "             crlb,\n",
        "             framesperbin = 1,  # note that small frames per bin use many more iterations\n",
        "             imgshape=[fov_width, fov_width],\n",
        "             coarseFramesPerBin=200,\n",
        "             coarseSigma=[0.2,0.2,0.2],  # run a coarse drift correction with large Z sigma\n",
        "             useCuda=use_cuda)\n",
        "\n",
        "rmsd = np.sqrt(np.mean((estimated_drift-drift_trace)**2, 0))\n",
        "print(f\"RMSD of drift estimate compared to true drift: {rmsd}\")\n",
        "\n",
        "fig,ax=plt.subplots(3, figsize=(7,6))\n",
        "for i in range(3):\n",
        "    ax[i].plot(drift_trace[:,i],label='True drift')\n",
        "    ax[i].plot(estimated_drift[:,i]+0.2,label='Estimated drift')\n",
        "    ax[i].set_title(['x', 'y', 'z'][i])\n",
        "\n",
        "    unit = ['px', 'px', 'um'][i]\n",
        "    ax[i].set_ylabel(f'Drift [{unit}]')\n",
        "ax[0].legend()\n",
        "plt.tight_layout()\n",
        "\n"
      ]
    }
  ]
}