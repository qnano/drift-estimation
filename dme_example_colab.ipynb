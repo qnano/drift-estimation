{
  "nbformat": 4,
  "nbformat_minor": 0,
  "metadata": {
    "colab": {
      "provenance": [],
      "gpuType": "T4"
    },
    "kernelspec": {
      "name": "python3",
      "display_name": "Python 3"
    },
    "language_info": {
      "name": "python"
    },
    "accelerator": "GPU"
  },
  "cells": [
    {
      "cell_type": "code",
      "source": [
        "\"\"\"\n",
        "3D drift estimation example.\n",
        "\n",
        "Runs ok on google colab with T4 GPU, but for some reason the CPU multithreading is much slower than on windows\n",
        "\"\"\"\n",
        "\n",
        "%cd /content\n",
        "!rm -rf /content/drift-estimation\n",
        "!git clone https://github.com/qnano/drift-estimation.git\n",
        "%cd /content/drift-estimation\n",
        "!cmake .\n",
        "!make clean & make"
      ],
      "metadata": {
        "id": "voVqLFZbIHYA"
      },
      "execution_count": null,
      "outputs": []
    },
    {
      "cell_type": "code",
      "execution_count": null,
      "metadata": {
        "colab": {
          "base_uri": "https://localhost:8080/"
        },
        "id": "2eF-M0wyIASW",
        "outputId": "df8eca10-591b-4826-9d36-d691f9c2018a"
      },
      "outputs": [
        {
          "output_type": "stream",
          "name": "stderr",
          "text": [
            "<ipython-input-2-b9ec6863ff3b>:32: DeprecationWarning: `np.bool` is a deprecated alias for the builtin `bool`. To silence this warning, use `bool` by itself. Doing this will not modify any behavior and is safe. If you specifically wanted the numpy scalar type, use `np.bool_` here.\n",
            "Deprecated in NumPy 1.20; for more details and guidance: https://numpy.org/devdocs/release/1.20.0-notes.html#deprecations\n",
            "  on = np.random.binomial(1, on_prob, size=n_sites).astype(np.bool)\n"
          ]
        },
        {
          "output_type": "stream",
          "name": "stdout",
          "text": [
            "Total localizations: 200047\n",
            "Computing XY drift\n",
            "RCC: Computing image cross correlations. Image stack shape: (10, 408, 408). Size: 6 MB\n"
          ]
        },
        {
          "output_type": "stream",
          "name": "stderr",
          "text": [
            "100%|██████████| 45/45 [00:04<00:00, 10.71it/s]\n"
          ]
        },
        {
          "output_type": "stream",
          "name": "stdout",
          "text": [
            "Computing Z drift\n",
            "RCC: Computing image cross correlations. Image stack shape: (10, 404, 404). Size: 6 MB\n"
          ]
        },
        {
          "output_type": "stream",
          "name": "stderr",
          "text": [
            "100%|██████████| 45/45 [00:04<00:00, 10.39it/s]\n"
          ]
        },
        {
          "output_type": "stream",
          "name": "stdout",
          "text": [
            "Computing initial coarse drift estimate... (200 frames/bin)\n"
          ]
        },
        {
          "output_type": "stream",
          "name": "stderr",
          "text": [
            "\r0it [00:00, ?it/s]"
          ]
        }
      ],
      "source": [
        "import numpy as np\n",
        "import matplotlib.pyplot as plt\n",
        "\n",
        "from dme.dme import dme_estimate\n",
        "\n",
        "# Need to have CUDA >= 10.1 update 2 installed\n",
        "use_cuda=True\n",
        "\n",
        "\n",
        "# Simulate an SMLM dataset in 3D with blinking molecules\n",
        "def smlm_simulation(\n",
        "        drift_trace,\n",
        "        fov_width, # field of view size in pixels\n",
        "        loc_error, # localization error XYZ\n",
        "        n_sites, # number of locations where molecules blink on and off\n",
        "        n_frames,\n",
        "        on_prob = 0.1, # probability of a binding site generating a localization in a frame\n",
        "        ):\n",
        "\n",
        "    \"\"\"\n",
        "    localization error is set to 20nm XY and 50nm Z precision\n",
        "    (assumping Z coordinates are in um and XY are in pixels)\n",
        "    \"\"\"\n",
        "\n",
        "    # typical 2D acquisition with small Z range and large XY range\n",
        "    binding_sites = np.random.uniform([0,0,-1], [fov_width,fov_width,1], size=(n_sites,3))\n",
        "\n",
        "    localizations = []\n",
        "    framenum = []\n",
        "\n",
        "    for i in range(n_frames):\n",
        "        on = np.random.binomial(1, on_prob, size=n_sites).astype(np.bool)\n",
        "        locs = binding_sites[on]*1\n",
        "        # add localization error\n",
        "        locs += drift_trace[i] + np.random.normal(0, loc_error, size=locs.shape)\n",
        "        framenum.append(np.ones(len(locs),dtype=np.int32)*i)\n",
        "        localizations.append(locs)\n",
        "\n",
        "    return np.concatenate(localizations), np.concatenate(framenum)\n",
        "\n",
        "n_frames = 10000\n",
        "fov_width = 200\n",
        "drift_mean = (0.001,0,0)\n",
        "drift_stdev = (0.02,0.02,0.02)\n",
        "loc_error = np.array((0.1,0.1,0.03)) # pixel, pixel, um\n",
        "# Ground truth drift trace\n",
        "drift_trace = np.cumsum(np.random.normal(drift_mean, drift_stdev, size=(n_frames,3)), 0)\n",
        "drift_trace -= drift_trace.mean(0)\n",
        "\n",
        "\n",
        "localizations, framenum = smlm_simulation(drift_trace, fov_width, loc_error,\n",
        "                                          n_sites=200,\n",
        "                                          n_frames=n_frames)\n",
        "print(f\"Total localizations: {len(localizations)}\")\n",
        "\n",
        "crlb = np.ones(localizations.shape) * np.array(loc_error)[None]\n",
        "\n",
        "estimated_drift,_ = dme_estimate(localizations, framenum,\n",
        "             crlb,\n",
        "             framesperbin = 10,  # note that small frames per bin use many more iterations\n",
        "             imgshape=[fov_width, fov_width],\n",
        "             coarseFramesPerBin=200,\n",
        "             coarseSigma=[0.2,0.2,0.2],  # run a coarse drift correction with large Z sigma\n",
        "             useCuda=use_cuda)\n",
        "\n",
        "rmsd = np.sqrt(np.mean((estimated_drift-drift_trace)**2, 0))\n",
        "print(f\"RMSD of drift estimate compared to true drift: {rmsd}\")\n",
        "\n",
        "fig,ax=plt.subplots(3, figsize=(7,6))\n",
        "for i in range(3):\n",
        "    ax[i].plot(drift_trace[:,i],label='True drift')\n",
        "    ax[i].plot(estimated_drift[:,i]+0.2,label='Estimated drift')\n",
        "    ax[i].set_title(['x', 'y', 'z'][i])\n",
        "\n",
        "    unit = ['px', 'px', 'um'][i]\n",
        "    ax[i].set_ylabel(f'Drift [{unit}]')\n",
        "ax[0].legend()\n",
        "plt.tight_layout()\n",
        "\n"
      ]
    }
  ]
}